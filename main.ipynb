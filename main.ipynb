{
 "cells": [
  {
   "cell_type": "code",
   "execution_count": null,
   "metadata": {},
   "outputs": [],
   "source": [
    "import os\n",
    "if not os.path.exists('data'):\n",
    "    !git clone https://github.com/iceghost/job-shop-genetic-algorithm\n",
    "    %cd job-shop-genetic-algorithm"
   ]
  },
  {
   "cell_type": "code",
   "execution_count": 206,
   "metadata": {},
   "outputs": [],
   "source": [
    "import pandas as pd\n",
    "import numpy as np\n",
    "import random as rand\n",
    "\n",
    "input = pd.read_json(\"data/input.json\")\n",
    "machines = pd.read_json(\"data/machines.json\")\n"
   ]
  },
  {
   "cell_type": "code",
   "execution_count": 207,
   "metadata": {},
   "outputs": [
    {
     "data": {
      "text/html": [
       "<div>\n",
       "<style scoped>\n",
       "    .dataframe tbody tr th:only-of-type {\n",
       "        vertical-align: middle;\n",
       "    }\n",
       "\n",
       "    .dataframe tbody tr th {\n",
       "        vertical-align: top;\n",
       "    }\n",
       "\n",
       "    .dataframe thead th {\n",
       "        text-align: right;\n",
       "    }\n",
       "</style>\n",
       "<table border=\"1\" class=\"dataframe\">\n",
       "  <thead>\n",
       "    <tr style=\"text-align: right;\">\n",
       "      <th></th>\n",
       "      <th>id</th>\n",
       "      <th>component</th>\n",
       "      <th>amount</th>\n",
       "      <th>sequence</th>\n",
       "      <th>deadline</th>\n",
       "    </tr>\n",
       "  </thead>\n",
       "  <tbody>\n",
       "    <tr>\n",
       "      <th>0</th>\n",
       "      <td>2264WP4021</td>\n",
       "      <td>W50P37F13</td>\n",
       "      <td>1703</td>\n",
       "      <td>[4, 3, 6, 5, 9, 10]</td>\n",
       "      <td>57600</td>\n",
       "    </tr>\n",
       "    <tr>\n",
       "      <th>1</th>\n",
       "      <td>2233RU2124(2)</td>\n",
       "      <td>P69R29PU2</td>\n",
       "      <td>1500</td>\n",
       "      <td>[1, 2, 4, 5, 3, 6, 8]</td>\n",
       "      <td>57600</td>\n",
       "    </tr>\n",
       "    <tr>\n",
       "      <th>2</th>\n",
       "      <td>2233PT2134(1),(2)</td>\n",
       "      <td>W50P50</td>\n",
       "      <td>5565</td>\n",
       "      <td>[3, 5, 0, 4, 6, 9, 8, 7]</td>\n",
       "      <td>59040</td>\n",
       "    </tr>\n",
       "    <tr>\n",
       "      <th>3</th>\n",
       "      <td>2247PU3040(3)</td>\n",
       "      <td>W30P70</td>\n",
       "      <td>2000</td>\n",
       "      <td>[3, 5, 0, 4, 6, 8, 9]</td>\n",
       "      <td>60480</td>\n",
       "    </tr>\n",
       "    <tr>\n",
       "      <th>4</th>\n",
       "      <td>2247PU3031(5)</td>\n",
       "      <td>W30P70</td>\n",
       "      <td>2500</td>\n",
       "      <td>[3, 5, 0, 4, 6, 9]</td>\n",
       "      <td>61920</td>\n",
       "    </tr>\n",
       "    <tr>\n",
       "      <th>5</th>\n",
       "      <td>2239WP2140</td>\n",
       "      <td>W51P43PU6</td>\n",
       "      <td>5568</td>\n",
       "      <td>[0, 2, 4, 9, 5, 3, 6, 7, 8]</td>\n",
       "      <td>63360</td>\n",
       "    </tr>\n",
       "    <tr>\n",
       "      <th>6</th>\n",
       "      <td>DUC93324S1W2#10B</td>\n",
       "      <td>W50P37F13</td>\n",
       "      <td>11000</td>\n",
       "      <td>[3, 5, 0, 4, 6, 7, 8, 10]</td>\n",
       "      <td>63360</td>\n",
       "    </tr>\n",
       "    <tr>\n",
       "      <th>7</th>\n",
       "      <td>2233RU2101</td>\n",
       "      <td>P69R29PU2</td>\n",
       "      <td>500</td>\n",
       "      <td>[4, 5, 0, 6, 3, 7, 8, 10]</td>\n",
       "      <td>63360</td>\n",
       "    </tr>\n",
       "    <tr>\n",
       "      <th>8</th>\n",
       "      <td>2160PU4006(4)</td>\n",
       "      <td>W50P50</td>\n",
       "      <td>9370</td>\n",
       "      <td>[3, 5, 0, 4, 6, 8, 7]</td>\n",
       "      <td>64800</td>\n",
       "    </tr>\n",
       "    <tr>\n",
       "      <th>9</th>\n",
       "      <td>2160PU4005(1)(2)</td>\n",
       "      <td>W50P50</td>\n",
       "      <td>15330</td>\n",
       "      <td>[3, 5, 0, 4, 6, 9, 8, 7]</td>\n",
       "      <td>64800</td>\n",
       "    </tr>\n",
       "  </tbody>\n",
       "</table>\n",
       "</div>"
      ],
      "text/plain": [
       "                  id  component  amount                     sequence  deadline\n",
       "0         2264WP4021  W50P37F13    1703          [4, 3, 6, 5, 9, 10]     57600\n",
       "1      2233RU2124(2)  P69R29PU2    1500        [1, 2, 4, 5, 3, 6, 8]     57600\n",
       "2  2233PT2134(1),(2)     W50P50    5565     [3, 5, 0, 4, 6, 9, 8, 7]     59040\n",
       "3      2247PU3040(3)     W30P70    2000        [3, 5, 0, 4, 6, 8, 9]     60480\n",
       "4      2247PU3031(5)     W30P70    2500           [3, 5, 0, 4, 6, 9]     61920\n",
       "5         2239WP2140  W51P43PU6    5568  [0, 2, 4, 9, 5, 3, 6, 7, 8]     63360\n",
       "6   DUC93324S1W2#10B  W50P37F13   11000    [3, 5, 0, 4, 6, 7, 8, 10]     63360\n",
       "7         2233RU2101  P69R29PU2     500    [4, 5, 0, 6, 3, 7, 8, 10]     63360\n",
       "8      2160PU4006(4)     W50P50    9370        [3, 5, 0, 4, 6, 8, 7]     64800\n",
       "9   2160PU4005(1)(2)     W50P50   15330     [3, 5, 0, 4, 6, 9, 8, 7]     64800"
      ]
     },
     "execution_count": 207,
     "metadata": {},
     "output_type": "execute_result"
    }
   ],
   "source": [
    "input\n"
   ]
  },
  {
   "cell_type": "code",
   "execution_count": 208,
   "metadata": {},
   "outputs": [
    {
     "data": {
      "text/html": [
       "<div>\n",
       "<style scoped>\n",
       "    .dataframe tbody tr th:only-of-type {\n",
       "        vertical-align: middle;\n",
       "    }\n",
       "\n",
       "    .dataframe tbody tr th {\n",
       "        vertical-align: top;\n",
       "    }\n",
       "\n",
       "    .dataframe thead th {\n",
       "        text-align: right;\n",
       "    }\n",
       "</style>\n",
       "<table border=\"1\" class=\"dataframe\">\n",
       "  <thead>\n",
       "    <tr style=\"text-align: right;\">\n",
       "      <th></th>\n",
       "      <th>id</th>\n",
       "      <th>name</th>\n",
       "      <th>speed</th>\n",
       "      <th>set_up_time</th>\n",
       "    </tr>\n",
       "  </thead>\n",
       "  <tbody>\n",
       "    <tr>\n",
       "      <th>0</th>\n",
       "      <td>R/S</td>\n",
       "      <td>Flexirapid 600</td>\n",
       "      <td>20</td>\n",
       "      <td>20</td>\n",
       "    </tr>\n",
       "    <tr>\n",
       "      <th>1</th>\n",
       "      <td>M/S</td>\n",
       "      <td>Twin 800</td>\n",
       "      <td>10</td>\n",
       "      <td>20</td>\n",
       "    </tr>\n",
       "    <tr>\n",
       "      <th>2</th>\n",
       "      <td>R/O</td>\n",
       "      <td>Corino</td>\n",
       "      <td>6</td>\n",
       "      <td>15</td>\n",
       "    </tr>\n",
       "    <tr>\n",
       "      <th>3</th>\n",
       "      <td>W</td>\n",
       "      <td>Aqua</td>\n",
       "      <td>20</td>\n",
       "      <td>15</td>\n",
       "    </tr>\n",
       "    <tr>\n",
       "      <th>4</th>\n",
       "      <td>ST</td>\n",
       "      <td>Brueckner</td>\n",
       "      <td>42</td>\n",
       "      <td>15</td>\n",
       "    </tr>\n",
       "    <tr>\n",
       "      <th>5</th>\n",
       "      <td>SI</td>\n",
       "      <td>Osthoff</td>\n",
       "      <td>60</td>\n",
       "      <td>10</td>\n",
       "    </tr>\n",
       "    <tr>\n",
       "      <th>6</th>\n",
       "      <td>CM</td>\n",
       "      <td>None</td>\n",
       "      <td>20</td>\n",
       "      <td>1</td>\n",
       "    </tr>\n",
       "    <tr>\n",
       "      <th>7</th>\n",
       "      <td>D</td>\n",
       "      <td>Thermoduplex</td>\n",
       "      <td>18</td>\n",
       "      <td>15</td>\n",
       "    </tr>\n",
       "    <tr>\n",
       "      <th>8</th>\n",
       "      <td>KD</td>\n",
       "      <td>Corino</td>\n",
       "      <td>25</td>\n",
       "      <td>20</td>\n",
       "    </tr>\n",
       "    <tr>\n",
       "      <th>9</th>\n",
       "      <td>P</td>\n",
       "      <td>Formula 1</td>\n",
       "      <td>17</td>\n",
       "      <td>20</td>\n",
       "    </tr>\n",
       "    <tr>\n",
       "      <th>10</th>\n",
       "      <td>S</td>\n",
       "      <td>Nanomix</td>\n",
       "      <td>12</td>\n",
       "      <td>5</td>\n",
       "    </tr>\n",
       "    <tr>\n",
       "      <th>11</th>\n",
       "      <td>SH</td>\n",
       "      <td>Lafer</td>\n",
       "      <td>10</td>\n",
       "      <td>15</td>\n",
       "    </tr>\n",
       "  </tbody>\n",
       "</table>\n",
       "</div>"
      ],
      "text/plain": [
       "     id            name  speed  set_up_time\n",
       "0   R/S  Flexirapid 600     20           20\n",
       "1   M/S        Twin 800     10           20\n",
       "2   R/O          Corino      6           15\n",
       "3     W            Aqua     20           15\n",
       "4    ST       Brueckner     42           15\n",
       "5    SI         Osthoff     60           10\n",
       "6    CM            None     20            1\n",
       "7     D    Thermoduplex     18           15\n",
       "8    KD          Corino     25           20\n",
       "9     P       Formula 1     17           20\n",
       "10    S         Nanomix     12            5\n",
       "11   SH           Lafer     10           15"
      ]
     },
     "execution_count": 208,
     "metadata": {},
     "output_type": "execute_result"
    }
   ],
   "source": [
    "machines\n"
   ]
  },
  {
   "attachments": {},
   "cell_type": "markdown",
   "metadata": {},
   "source": [
    "## Khởi tạo các ma trận"
   ]
  },
  {
   "attachments": {},
   "cell_type": "markdown",
   "metadata": {},
   "source": [
    "Khởi tạo ma trận tuần tự công nghệ, `-1` là không có."
   ]
  },
  {
   "cell_type": "code",
   "execution_count": 209,
   "metadata": {},
   "outputs": [
    {
     "data": {
      "text/plain": [
       "array([[ 4,  3,  6,  5,  9, 10, -1, -1, -1],\n",
       "       [ 1,  2,  4,  5,  3,  6,  8, -1, -1],\n",
       "       [ 3,  5,  0,  4,  6,  9,  8,  7, -1],\n",
       "       [ 3,  5,  0,  4,  6,  8,  9, -1, -1],\n",
       "       [ 3,  5,  0,  4,  6,  9, -1, -1, -1],\n",
       "       [ 0,  2,  4,  9,  5,  3,  6,  7,  8],\n",
       "       [ 3,  5,  0,  4,  6,  7,  8, 10, -1],\n",
       "       [ 4,  5,  0,  6,  3,  7,  8, 10, -1],\n",
       "       [ 3,  5,  0,  4,  6,  8,  7, -1, -1],\n",
       "       [ 3,  5,  0,  4,  6,  9,  8,  7, -1]])"
      ]
     },
     "execution_count": 209,
     "metadata": {},
     "output_type": "execute_result"
    }
   ],
   "source": [
    "Tjk = pd.DataFrame(input[\"sequence\"].values.tolist()).fillna(-1).astype(int).values\n",
    "Tjk\n"
   ]
  },
  {
   "cell_type": "code",
   "execution_count": 210,
   "metadata": {},
   "outputs": [
    {
     "data": {
      "text/plain": [
       "array([[0, 0, 0, 0, 0, 1, 0, 0, 0, 0],\n",
       "       [0, 1, 0, 0, 0, 0, 0, 0, 0, 0],\n",
       "       [0, 0, 0, 0, 0, 0, 0, 0, 0, 0],\n",
       "       [0, 0, 1, 1, 1, 0, 1, 0, 1, 1],\n",
       "       [1, 0, 0, 0, 0, 0, 0, 1, 0, 0],\n",
       "       [0, 0, 0, 0, 0, 0, 0, 0, 0, 0],\n",
       "       [0, 0, 0, 0, 0, 0, 0, 0, 0, 0],\n",
       "       [0, 0, 0, 0, 0, 0, 0, 0, 0, 0],\n",
       "       [0, 0, 0, 0, 0, 0, 0, 0, 0, 0],\n",
       "       [0, 0, 0, 0, 0, 0, 0, 0, 0, 0],\n",
       "       [0, 0, 0, 0, 0, 0, 0, 0, 0, 0],\n",
       "       [0, 0, 0, 0, 0, 0, 0, 0, 0, 0]])"
      ]
     },
     "execution_count": 210,
     "metadata": {},
     "output_type": "execute_result"
    }
   ],
   "source": [
    "Cij = np.zeros((len(machines), len(input)), dtype=int)\n",
    "for j, i in enumerate(Tjk[:, 0]):\n",
    "    if i != -1:\n",
    "        Cij[i, j] = 1\n",
    "Cij\n"
   ]
  },
  {
   "cell_type": "code",
   "execution_count": 211,
   "metadata": {},
   "outputs": [
    {
     "data": {
      "text/plain": [
       "array([[-1, -1,  4,  4,  4,  2,  4,  6,  4,  4],\n",
       "       [-1,  2, -1, -1, -1, -1, -1, -1, -1, -1],\n",
       "       [-1,  4, -1, -1, -1,  4, -1, -1, -1, -1],\n",
       "       [ 6,  6,  5,  5,  5,  6,  5,  7,  5,  5],\n",
       "       [ 3,  5,  6,  6,  6,  9,  6,  5,  6,  6],\n",
       "       [ 9,  3,  0,  0,  0,  3,  0,  0,  0,  0],\n",
       "       [ 5,  8,  9,  8,  9,  7,  7,  3,  8,  9],\n",
       "       [-1, -1, -1, -1, -1,  8,  8,  8, -1, -1],\n",
       "       [-1, -1,  7,  9, -1, -1, 10, 10,  7,  7],\n",
       "       [10, -1,  8, -1, -1,  5, -1, -1, -1,  8],\n",
       "       [-1, -1, -1, -1, -1, -1, -1, -1, -1, -1],\n",
       "       [-1, -1, -1, -1, -1, -1, -1, -1, -1, -1]])"
      ]
     },
     "execution_count": 211,
     "metadata": {},
     "output_type": "execute_result"
    }
   ],
   "source": [
    "L_Tij = np.ndarray((len(machines), len(input)), dtype=int)\n",
    "\n",
    "for i in range(0, len(machines)):\n",
    "    for j in range(0, len(input)):\n",
    "        try:\n",
    "            # máy tiếp theo của máy i là máy gì?\n",
    "            L_Tij[i, j] = Tjk[j, np.where(Tjk[j] == i)[0][0] + 1]\n",
    "\n",
    "        except IndexError:\n",
    "            # nếu không có máy tiếp theo thì gán -1\n",
    "            L_Tij[i, j] = -1\n",
    "\n",
    "L_Tij\n"
   ]
  },
  {
   "cell_type": "code",
   "execution_count": 212,
   "metadata": {},
   "outputs": [
    {
     "data": {
      "text/plain": [
       "array([[-1, -1,  5,  5,  5, -1,  5,  5,  5,  5],\n",
       "       [-1, -1, -1, -1, -1, -1, -1, -1, -1, -1],\n",
       "       [-1,  1, -1, -1, -1,  0, -1, -1, -1, -1],\n",
       "       [ 4,  5, -1, -1, -1,  5, -1,  6, -1, -1],\n",
       "       [-1,  2,  0,  0,  0,  2,  0, -1,  0,  0],\n",
       "       [ 6,  4,  3,  3,  3,  9,  3,  4,  3,  3],\n",
       "       [ 3,  3,  4,  4,  4,  3,  4,  0,  4,  4],\n",
       "       [-1, -1,  8, -1, -1,  6,  6,  3,  8,  8],\n",
       "       [-1,  6,  9,  6, -1,  7,  7,  7,  6,  9],\n",
       "       [ 5, -1,  6,  8,  6,  4, -1, -1, -1,  6],\n",
       "       [ 9, -1, -1, -1, -1, -1,  8,  8, -1, -1],\n",
       "       [-1, -1, -1, -1, -1, -1, -1, -1, -1, -1]])"
      ]
     },
     "execution_count": 212,
     "metadata": {},
     "output_type": "execute_result"
    }
   ],
   "source": [
    "F_Tij = np.ndarray((len(machines), len(input)), dtype=int)\n",
    "\n",
    "for i in range(0, len(machines)):\n",
    "    for j in range(0, len(input)):\n",
    "        try:\n",
    "            # máy tiếp theo của máy i là máy gì?\n",
    "            next_k = np.where(Tjk[j] == i)[0][0] - 1\n",
    "\n",
    "            if next_k == -1:\n",
    "                raise IndexError()\n",
    "\n",
    "            F_Tij[i, j] = Tjk[j, next_k]\n",
    "\n",
    "        except IndexError:\n",
    "            # nếu không có máy tiếp theo thì gán -1\n",
    "            F_Tij[i, j] = -1\n",
    "\n",
    "F_Tij\n"
   ]
  },
  {
   "cell_type": "code",
   "execution_count": 213,
   "metadata": {},
   "outputs": [
    {
     "data": {
      "text/plain": [
       "array([[  85.15      ,   75.        ,  278.25      ,  100.        ,\n",
       "         125.        ,  278.4       ,  550.        ,   25.        ,\n",
       "         468.5       ,  766.5       ],\n",
       "       [ 170.3       ,  150.        ,  556.5       ,  200.        ,\n",
       "         250.        ,  556.8       , 1100.        ,   50.        ,\n",
       "         937.        , 1533.        ],\n",
       "       [ 283.83333333,  250.        ,  927.5       ,  333.33333333,\n",
       "         416.66666667,  928.        , 1833.33333333,   83.33333333,\n",
       "        1561.66666667, 2555.        ],\n",
       "       [  85.15      ,   75.        ,  278.25      ,  100.        ,\n",
       "         125.        ,  278.4       ,  550.        ,   25.        ,\n",
       "         468.5       ,  766.5       ],\n",
       "       [  40.54761905,   35.71428571,  132.5       ,   47.61904762,\n",
       "          59.52380952,  132.57142857,  261.9047619 ,   11.9047619 ,\n",
       "         223.0952381 ,  365.        ],\n",
       "       [  28.38333333,   25.        ,   92.75      ,   33.33333333,\n",
       "          41.66666667,   92.8       ,  183.33333333,    8.33333333,\n",
       "         156.16666667,  255.5       ],\n",
       "       [  85.15      ,   75.        ,  278.25      ,  100.        ,\n",
       "         125.        ,  278.4       ,  550.        ,   25.        ,\n",
       "         468.5       ,  766.5       ],\n",
       "       [  94.61111111,   83.33333333,  309.16666667,  111.11111111,\n",
       "         138.88888889,  309.33333333,  611.11111111,   27.77777778,\n",
       "         520.55555556,  851.66666667],\n",
       "       [  68.12      ,   60.        ,  222.6       ,   80.        ,\n",
       "         100.        ,  222.72      ,  440.        ,   20.        ,\n",
       "         374.8       ,  613.2       ],\n",
       "       [ 100.17647059,   88.23529412,  327.35294118,  117.64705882,\n",
       "         147.05882353,  327.52941176,  647.05882353,   29.41176471,\n",
       "         551.17647059,  901.76470588],\n",
       "       [ 141.91666667,  125.        ,  463.75      ,  166.66666667,\n",
       "         208.33333333,  464.        ,  916.66666667,   41.66666667,\n",
       "         780.83333333, 1277.5       ],\n",
       "       [ 170.3       ,  150.        ,  556.5       ,  200.        ,\n",
       "         250.        ,  556.8       , 1100.        ,   50.        ,\n",
       "         937.        , 1533.        ]])"
      ]
     },
     "execution_count": 213,
     "metadata": {},
     "output_type": "execute_result"
    }
   ],
   "source": [
    "T_Oij = np.ndarray((len(machines), len(input)))\n",
    "for i in range(0, len(machines)):\n",
    "    for j in range(0, len(input)):\n",
    "        T_Oij[i, j] = input.loc[j][\"amount\"] / machines.loc[i][\"speed\"]\n",
    "T_Oij\n"
   ]
  },
  {
   "attachments": {},
   "cell_type": "markdown",
   "metadata": {},
   "source": [
    "## Khởi tạo quần thể ban đầu"
   ]
  },
  {
   "cell_type": "code",
   "execution_count": 214,
   "metadata": {},
   "outputs": [
    {
     "data": {
      "text/plain": [
       "array([[ 5,  8,  9,  7,  4,  6,  3,  2, -1, -1],\n",
       "       [ 1, -1, -1, -1, -1, -1, -1, -1, -1, -1],\n",
       "       [ 1,  5, -1, -1, -1, -1, -1, -1, -1, -1],\n",
       "       [ 9,  3,  2,  0,  4,  8,  6,  5,  1,  7],\n",
       "       [ 0,  7,  1,  5,  8,  9,  4,  6,  3,  2],\n",
       "       [ 5,  8,  9,  2,  1,  6,  0,  3,  4,  7],\n",
       "       [ 0,  5,  1,  8,  7,  9,  3,  4,  6,  2],\n",
       "       [ 5,  7,  8,  6,  9,  2, -1, -1, -1, -1],\n",
       "       [ 1,  5,  8,  7,  3,  9,  2,  6, -1, -1],\n",
       "       [ 5,  0,  9,  4,  3,  2, -1, -1, -1, -1],\n",
       "       [ 0,  7,  6, -1, -1, -1, -1, -1, -1, -1],\n",
       "       [-1, -1, -1, -1, -1, -1, -1, -1, -1, -1]])"
      ]
     },
     "execution_count": 214,
     "metadata": {},
     "output_type": "execute_result"
    }
   ],
   "source": [
    "P = np.ndarray((len(machines), len(input)), dtype=int)\n",
    "P.fill(-1)\n",
    "G = set(tuple(ij) for ij in np.column_stack(np.where(Cij == 1)))\n",
    "T_Sij = np.zeros((len(machines), len(input)))\n",
    "T_Fij = T_Sij + T_Oij\n",
    "VTi = np.zeros(len(machines), dtype=int)\n",
    "\n",
    "while True:\n",
    "    # V_G chứa các cặp (i, j) mà T_Sij[i, j] nhỏ nhất\n",
    "    V_G = set(\n",
    "        (i, j)\n",
    "        for (i, j) in G\n",
    "        if T_Sij[i, j] == T_Sij[list(g[0] for g in G), list(g[1] for g in G)].min()\n",
    "    )\n",
    "\n",
    "    # xóa các cặp (i, j) không có trong G\n",
    "    V_G.intersection_update(G)\n",
    "\n",
    "    # chọn ngẫu nhiên từ V_G\n",
    "    i, j = rand.choice(list(V_G))\n",
    "\n",
    "    P[i, VTi[i]] = j\n",
    "    VTi[i] += 1\n",
    "    G.remove((i, j))\n",
    "\n",
    "    # nếu k chưa phải là máy cuối cùng thì thêm vào G\n",
    "    if (k := L_Tij[i, j]) != -1:\n",
    "        G.add((k, j))\n",
    "\n",
    "    # nếu điền xong hết rồi thì thoát ra\n",
    "    elif len(G) == 0:\n",
    "        break\n",
    "\n",
    "    # cập nhật lại T_Sij, T_Fij\n",
    "    for i, j in G:\n",
    "        r = P[i, VTi[i] - 1]\n",
    "        k = F_Tij[i, j]\n",
    "        T_Sij[i, j] = max(T_Fij[i, r], T_Fij[k, j])\n",
    "        T_Fij[i, j] = T_Sij[i, j] + T_Oij[i, j]\n",
    "P\n"
   ]
  },
  {
   "cell_type": "code",
   "execution_count": 215,
   "metadata": {},
   "outputs": [
    {
     "data": {
      "text/plain": [
       "array([[   85.15      ,    75.        ,  7416.71666667,  7138.46666667,\n",
       "         6488.46666667,  1044.9       ,  7038.46666667,  6363.46666667,\n",
       "         5571.96666667,  6338.46666667],\n",
       "       [  170.3       ,  1683.        ,   556.5       ,   200.        ,\n",
       "          250.        ,   556.8       ,  1100.        ,    50.        ,\n",
       "          937.        ,  1533.        ],\n",
       "       [  283.83333333,  2805.        ,   927.5       ,   333.33333333,\n",
       "          416.66666667,  3733.        ,  1833.33333333,    83.33333333,\n",
       "         1561.66666667,  2555.        ],\n",
       "       [ 1229.9       ,  5551.71666667,  1144.75      ,   866.5       ,\n",
       "         1354.9       ,  5225.7       ,  2373.4       ,  6413.46666667,\n",
       "         1823.4       ,   766.5       ],\n",
       "       [  405.54761905,  2840.71428571,  7549.21666667,  7347.99047619,\n",
       "         6762.99047619,  3865.57142857,  7300.37142857,   417.45238095,\n",
       "         5795.06190476,  6703.46666667],\n",
       "       [ 5688.43333333,  5476.71666667,  5451.71666667,  5721.76666667,\n",
       "         5763.43333333,  4947.3       ,  5660.05      ,  5771.76666667,\n",
       "         5103.46666667,  5358.96666667],\n",
       "       [ 1315.05      ,  5626.71666667,  8523.21666667,  7569.96666667,\n",
       "         7694.96666667,  5504.1       ,  8244.96666667,  6388.46666667,\n",
       "         6263.56190476,  7469.96666667],\n",
       "       [   94.61111111,    83.33333333, 10145.76470588,   111.11111111,\n",
       "          138.88888889,  5813.43333333,  8856.07777778,  6441.24444444,\n",
       "         7158.91746032,  9836.59803922],\n",
       "       [   68.12      ,  5686.71666667,  9207.53137255,  7649.96666667,\n",
       "          100.        ,  6036.15333333,  9647.53137255,  6658.36190476,\n",
       "         6638.36190476,  8984.93137255],\n",
       "       [ 5788.60980392,    88.23529412,  8963.79019608,  8636.4372549 ,\n",
       "         8518.79019608,  4193.10084034,   647.05882353,    29.41176471,\n",
       "          551.17647059,  8371.73137255],\n",
       "       [ 5930.52647059,   125.        ,   463.75      ,   166.66666667,\n",
       "          208.33333333,   464.        , 10564.19803922,  6700.02857143,\n",
       "          780.83333333,  1277.5       ],\n",
       "       [  170.3       ,   150.        ,   556.5       ,   200.        ,\n",
       "          250.        ,   556.8       ,  1100.        ,    50.        ,\n",
       "          937.        ,  1533.        ]])"
      ]
     },
     "execution_count": 215,
     "metadata": {},
     "output_type": "execute_result"
    }
   ],
   "source": [
    "T_Fij\n"
   ]
  },
  {
   "cell_type": "code",
   "execution_count": 216,
   "metadata": {},
   "outputs": [
    {
     "data": {
      "text/plain": [
       "array([ 5930.52647059,  5686.71666667, 10145.76470588,  8636.4372549 ,\n",
       "        8518.79019608,  6036.15333333, 10564.19803922,  6700.02857143,\n",
       "        7158.91746032,  9836.59803922])"
      ]
     },
     "execution_count": 216,
     "metadata": {},
     "output_type": "execute_result"
    }
   ],
   "source": [
    "T_FJj = np.max(T_Fij, axis=0)\n",
    "T_FJj\n"
   ]
  },
  {
   "cell_type": "code",
   "execution_count": 217,
   "metadata": {},
   "outputs": [
    {
     "data": {
      "text/plain": [
       "array([57600, 57600, 59040, 60480, 61920, 63360, 63360, 63360, 64800,\n",
       "       64800], dtype=int64)"
      ]
     },
     "execution_count": 217,
     "metadata": {},
     "output_type": "execute_result"
    }
   ],
   "source": [
    "input[\"deadline\"].values\n"
   ]
  },
  {
   "cell_type": "code",
   "execution_count": 218,
   "metadata": {},
   "outputs": [
    {
     "data": {
      "text/plain": [
       "array([0., 0., 0., 0., 0., 0., 0., 0., 0., 0.])"
      ]
     },
     "execution_count": 218,
     "metadata": {},
     "output_type": "execute_result"
    }
   ],
   "source": [
    "T_TJj = T_FJj - input[\"deadline\"].values\n",
    "T_TJj = T_TJj.clip(min=0)\n",
    "T_TJj\n"
   ]
  }
 ],
 "metadata": {
  "kernelspec": {
   "display_name": "Python 3",
   "language": "python",
   "name": "python3"
  },
  "language_info": {
   "codemirror_mode": {
    "name": "ipython",
    "version": 3
   },
   "file_extension": ".py",
   "mimetype": "text/x-python",
   "name": "python",
   "nbconvert_exporter": "python",
   "pygments_lexer": "ipython3",
   "version": "3.11.0"
  },
  "orig_nbformat": 4
 },
 "nbformat": 4,
 "nbformat_minor": 2
}
